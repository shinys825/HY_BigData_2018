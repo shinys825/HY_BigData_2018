{
 "cells": [
  {
   "cell_type": "markdown",
   "metadata": {},
   "source": [
    "# 1. Load Libraries"
   ]
  },
  {
   "cell_type": "code",
   "execution_count": 1,
   "metadata": {
    "ExecuteTime": {
     "end_time": "2018-07-17T08:36:59.917127Z",
     "start_time": "2018-07-17T08:36:58.205542Z"
    }
   },
   "outputs": [
    {
     "name": "stderr",
     "output_type": "stream",
     "text": [
      "C:\\Anaconda3\\lib\\site-packages\\gensim\\utils.py:1197: UserWarning: detected Windows; aliasing chunkize to chunkize_serial\n",
      "  warnings.warn(\"detected Windows; aliasing chunkize to chunkize_serial\")\n"
     ]
    }
   ],
   "source": [
    "import utils\n",
    "import pandas as pd"
   ]
  },
  {
   "cell_type": "markdown",
   "metadata": {},
   "source": [
    "# 2. Load Review files\n",
    "- Amazon review data [Link](http://jmcauley.ucsd.edu/data/amazon/) \n",
    "- Automotive, Musical Instruments, Patio & Lawn and Garden"
   ]
  },
  {
   "cell_type": "code",
   "execution_count": 2,
   "metadata": {
    "ExecuteTime": {
     "end_time": "2018-07-17T08:37:02.146886Z",
     "start_time": "2018-07-17T08:36:59.919122Z"
    }
   },
   "outputs": [],
   "source": [
    "# 파이썬에서 작업하기 적합한 형태로 리뷰파일 변환\n",
    "train_reviews, test_reviews = utils.prepare_reviews()"
   ]
  },
  {
   "cell_type": "code",
   "execution_count": 3,
   "metadata": {
    "ExecuteTime": {
     "end_time": "2018-07-17T08:37:02.195245Z",
     "start_time": "2018-07-17T08:37:02.146886Z"
    },
    "scrolled": true
   },
   "outputs": [
    {
     "data": {
      "text/html": [
       "<div>\n",
       "<style scoped>\n",
       "    .dataframe tbody tr th:only-of-type {\n",
       "        vertical-align: middle;\n",
       "    }\n",
       "\n",
       "    .dataframe tbody tr th {\n",
       "        vertical-align: top;\n",
       "    }\n",
       "\n",
       "    .dataframe thead th {\n",
       "        text-align: right;\n",
       "    }\n",
       "</style>\n",
       "<table border=\"1\" class=\"dataframe\">\n",
       "  <thead>\n",
       "    <tr style=\"text-align: right;\">\n",
       "      <th></th>\n",
       "      <th>review</th>\n",
       "      <th>rating</th>\n",
       "      <th>sentiment</th>\n",
       "      <th>category</th>\n",
       "    </tr>\n",
       "  </thead>\n",
       "  <tbody>\n",
       "    <tr>\n",
       "      <th>39840</th>\n",
       "      <td>received this product free of charge in exchan...</td>\n",
       "      <td>5.0</td>\n",
       "      <td>good</td>\n",
       "      <td>garden</td>\n",
       "    </tr>\n",
       "    <tr>\n",
       "      <th>39841</th>\n",
       "      <td>these tongs were provided to me by fresher pro...</td>\n",
       "      <td>5.0</td>\n",
       "      <td>good</td>\n",
       "      <td>garden</td>\n",
       "    </tr>\n",
       "    <tr>\n",
       "      <th>39842</th>\n",
       "      <td>received this item free of charge big sturdy a...</td>\n",
       "      <td>5.0</td>\n",
       "      <td>good</td>\n",
       "      <td>garden</td>\n",
       "    </tr>\n",
       "    <tr>\n",
       "      <th>39843</th>\n",
       "      <td>these grill tongs are great love how comfortab...</td>\n",
       "      <td>5.0</td>\n",
       "      <td>good</td>\n",
       "      <td>garden</td>\n",
       "    </tr>\n",
       "    <tr>\n",
       "      <th>39844</th>\n",
       "      <td>big and easy to use durable and made of the hi...</td>\n",
       "      <td>5.0</td>\n",
       "      <td>good</td>\n",
       "      <td>garden</td>\n",
       "    </tr>\n",
       "  </tbody>\n",
       "</table>\n",
       "</div>"
      ],
      "text/plain": [
       "                                                  review  rating sentiment  \\\n",
       "39840  received this product free of charge in exchan...     5.0      good   \n",
       "39841  these tongs were provided to me by fresher pro...     5.0      good   \n",
       "39842  received this item free of charge big sturdy a...     5.0      good   \n",
       "39843  these grill tongs are great love how comfortab...     5.0      good   \n",
       "39844  big and easy to use durable and made of the hi...     5.0      good   \n",
       "\n",
       "      category  \n",
       "39840   garden  \n",
       "39841   garden  \n",
       "39842   garden  \n",
       "39843   garden  \n",
       "39844   garden  "
      ]
     },
     "execution_count": 3,
     "metadata": {},
     "output_type": "execute_result"
    }
   ],
   "source": [
    "# 읽어온 데이터 확인\n",
    "train_df = pd.DataFrame(train_reviews, columns=['review', 'rating', 'sentiment', 'category'])\n",
    "train_df.tail()"
   ]
  },
  {
   "cell_type": "code",
   "execution_count": 4,
   "metadata": {
    "ExecuteTime": {
     "end_time": "2018-07-17T08:37:02.213201Z",
     "start_time": "2018-07-17T08:37:02.198241Z"
    }
   },
   "outputs": [
    {
     "data": {
      "text/plain": [
       "good    37057\n",
       "bad      2788\n",
       "Name: sentiment, dtype: int64"
      ]
     },
     "execution_count": 4,
     "metadata": {},
     "output_type": "execute_result"
    }
   ],
   "source": [
    "# 전체 문서의 84.83%가 긍정문서\n",
    "train_df['sentiment'].value_counts()"
   ]
  },
  {
   "cell_type": "markdown",
   "metadata": {},
   "source": [
    "# 3. Prepare Doc2Vec input\n",
    "- TaggedDocument 객체 생성 필요\n",
    "- words = 토큰단위로 나눠진 List\n",
    "  - ['단어1', '단어2', ..., '단어n]\n",
    "- tags = 문서번호 및 문서 카테고리\n",
    "  - ['문서번호', '카테고리1', '카테고리2', ..., '카테고리n']"
   ]
  },
  {
   "cell_type": "code",
   "execution_count": 5,
   "metadata": {
    "ExecuteTime": {
     "end_time": "2018-07-17T08:37:02.727820Z",
     "start_time": "2018-07-17T08:37:02.215191Z"
    }
   },
   "outputs": [
    {
     "data": {
      "text/plain": [
       "TaggedDocument(words=['needed', 'set', 'of', 'jumper', 'cables', 'for', 'my', 'new', 'car', 'and', 'these', 'had', 'good', 'reviews', 'and', 'were', 'at', 'good', 'price', 'they', 'have', 'been', 'used', 'few', 'times', 'already', 'and', 'do', 'what', 'they', 'are', 'supposed', 'to', 'no', 'complaints', 'there', 'what', 'will', 'say', 'is', 'that', 'feet', 'really', 'isn', 'an', 'ideal', 'length', 'sure', 'if', 'you', 'pull', 'up', 'front', 'bumper', 'to', 'front', 'bumper', 'they', 'are', 'plenty', 'long', 'but', 'lot', 'of', 'times', 'you', 'will', 'be', 'beside', 'another', 'car', 'or', 'can', 'get', 'really', 'close', 'because', 'of', 'this', 'would', 'recommend', 'something', 'little', 'longer', 'than', 'great', 'brand', 'get', 'version', 'though'], tags=['d0', 'good'])"
      ]
     },
     "execution_count": 5,
     "metadata": {},
     "output_type": "execute_result"
    }
   ],
   "source": [
    "# Doc2Vec에 사용하기 적합한 형태로 변환\n",
    "encoded_reviews = utils.doc2vec_labeler(train_reviews)\n",
    "encoded_reviews[0]"
   ]
  },
  {
   "cell_type": "markdown",
   "metadata": {},
   "source": [
    "# 4. Set Doc2Vec object"
   ]
  },
  {
   "cell_type": "code",
   "execution_count": 6,
   "metadata": {
    "ExecuteTime": {
     "end_time": "2018-07-17T08:37:04.643972Z",
     "start_time": "2018-07-17T08:37:02.729813Z"
    }
   },
   "outputs": [
    {
     "name": "stdout",
     "output_type": "stream",
     "text": [
      "말뭉치의 단어 수: 19158\n"
     ]
    }
   ],
   "source": [
    "# Doc2Vec 인스턴스 생성\n",
    "model = utils.make_doc2vec_object()\n",
    "\n",
    "# Doc2Vec 인스턴스에서 말뭉치 단어사전 생성\n",
    "model.build_vocab(encoded_reviews)\n",
    "print(\"말뭉치의 단어 수:\", len(model.wv.vocab))"
   ]
  },
  {
   "cell_type": "code",
   "execution_count": 7,
   "metadata": {
    "ExecuteTime": {
     "end_time": "2018-07-17T08:37:05.103112Z",
     "start_time": "2018-07-17T08:37:04.645966Z"
    }
   },
   "outputs": [],
   "source": [
    "# Doc2Vec 모델 훈련\n",
    "model.train(encoded_reviews, total_examples=model.corpus_count, epochs=10)"
   ]
  },
  {
   "cell_type": "markdown",
   "metadata": {},
   "source": [
    "# 5. Check the result\n",
    "- return [(유사한 단어1, 유사한 점수1), ..., (유사한 단어n, 유사한 정도n)]"
   ]
  },
  {
   "cell_type": "code",
   "execution_count": 8,
   "metadata": {
    "ExecuteTime": {
     "end_time": "2018-07-17T08:37:05.132035Z",
     "start_time": "2018-07-17T08:37:05.111090Z"
    }
   },
   "outputs": [
    {
     "data": {
      "text/plain": [
       "[('softening', 0.5707731246948242),\n",
       " ('stringing', 0.5525894165039062),\n",
       " ('kmart', 0.5330182909965515),\n",
       " ('wishlist', 0.5068528056144714),\n",
       " ('refill', 0.4978862702846527),\n",
       " ('dobie', 0.4951757490634918),\n",
       " ('whoa', 0.4859882593154907),\n",
       " ('technological', 0.4750080406665802),\n",
       " ('misc', 0.4693489670753479),\n",
       " ('taylor', 0.46787726879119873)]"
      ]
     },
     "execution_count": 8,
     "metadata": {},
     "output_type": "execute_result"
    }
   ],
   "source": [
    "# 입력단어와 유사한 단어 검색\n",
    "model.wv.most_similar('car')"
   ]
  },
  {
   "cell_type": "code",
   "execution_count": 9,
   "metadata": {
    "ExecuteTime": {
     "end_time": "2018-07-17T08:37:05.172925Z",
     "start_time": "2018-07-17T08:37:05.136026Z"
    }
   },
   "outputs": [
    {
     "name": "stdout",
     "output_type": "stream",
     "text": [
      "Review: \n",
      " lucky is any car that comes to be our vehicle my husband is fastidious with the upkeep of our cars after rain our cars have been dried off in the garage nature carwash waxing etc is done on regular basis when off to carwash that facility must not use any harsh or abrasive equipment most times my hubby does the job himself pending the weather he has praised the microfiber drying towel and its pockets as well as the blade for accomplishing the job with more ease towel and blade are perfect for our vehicles \n",
      "\n",
      "Rating: 5.0\n",
      "Sentiment: good\n",
      "Category: auto\n"
     ]
    },
    {
     "data": {
      "text/html": [
       "<div>\n",
       "<style scoped>\n",
       "    .dataframe tbody tr th:only-of-type {\n",
       "        vertical-align: middle;\n",
       "    }\n",
       "\n",
       "    .dataframe tbody tr th {\n",
       "        vertical-align: top;\n",
       "    }\n",
       "\n",
       "    .dataframe thead th {\n",
       "        text-align: right;\n",
       "    }\n",
       "</style>\n",
       "<table border=\"1\" class=\"dataframe\">\n",
       "  <thead>\n",
       "    <tr style=\"text-align: right;\">\n",
       "      <th></th>\n",
       "      <th>index</th>\n",
       "      <th>review</th>\n",
       "      <th>rating</th>\n",
       "      <th>sentiment</th>\n",
       "      <th>category</th>\n",
       "      <th>score</th>\n",
       "    </tr>\n",
       "  </thead>\n",
       "  <tbody>\n",
       "    <tr>\n",
       "      <th>0</th>\n",
       "      <td>27726</td>\n",
       "      <td>have had of these tuners you think learn after...</td>\n",
       "      <td>1.0</td>\n",
       "      <td>bad</td>\n",
       "      <td>music</td>\n",
       "      <td>0.633360</td>\n",
       "    </tr>\n",
       "    <tr>\n",
       "      <th>1</th>\n",
       "      <td>24814</td>\n",
       "      <td>am very pleased with the quality of this stand...</td>\n",
       "      <td>5.0</td>\n",
       "      <td>good</td>\n",
       "      <td>music</td>\n",
       "      <td>0.535001</td>\n",
       "    </tr>\n",
       "    <tr>\n",
       "      <th>2</th>\n",
       "      <td>22325</td>\n",
       "      <td>great strings use these on deering goodtime ii...</td>\n",
       "      <td>5.0</td>\n",
       "      <td>good</td>\n",
       "      <td>music</td>\n",
       "      <td>0.531501</td>\n",
       "    </tr>\n",
       "    <tr>\n",
       "      <th>3</th>\n",
       "      <td>33035</td>\n",
       "      <td>hooked it up to my and lb tank works great wis...</td>\n",
       "      <td>5.0</td>\n",
       "      <td>good</td>\n",
       "      <td>garden</td>\n",
       "      <td>0.516991</td>\n",
       "    </tr>\n",
       "    <tr>\n",
       "      <th>4</th>\n",
       "      <td>19358</td>\n",
       "      <td>for the money have no complaints the enclosure...</td>\n",
       "      <td>4.0</td>\n",
       "      <td>good</td>\n",
       "      <td>music</td>\n",
       "      <td>0.478231</td>\n",
       "    </tr>\n",
       "  </tbody>\n",
       "</table>\n",
       "</div>"
      ],
      "text/plain": [
       "   index                                             review  rating sentiment  \\\n",
       "0  27726  have had of these tuners you think learn after...     1.0       bad   \n",
       "1  24814  am very pleased with the quality of this stand...     5.0      good   \n",
       "2  22325  great strings use these on deering goodtime ii...     5.0      good   \n",
       "3  33035  hooked it up to my and lb tank works great wis...     5.0      good   \n",
       "4  19358  for the money have no complaints the enclosure...     4.0      good   \n",
       "\n",
       "  category     score  \n",
       "0    music  0.633360  \n",
       "1    music  0.535001  \n",
       "2    music  0.531501  \n",
       "3   garden  0.516991  \n",
       "4    music  0.478231  "
      ]
     },
     "execution_count": 9,
     "metadata": {},
     "output_type": "execute_result"
    }
   ],
   "source": [
    "similar_docs = utils.get_similar_doc(test_reviews[1], train_reviews, model)\n",
    "similar_docs"
   ]
  },
  {
   "cell_type": "code",
   "execution_count": 10,
   "metadata": {
    "ExecuteTime": {
     "end_time": "2018-07-17T08:37:07.065310Z",
     "start_time": "2018-07-17T08:37:05.178909Z"
    }
   },
   "outputs": [
    {
     "data": {
      "text/plain": [
       "281"
      ]
     },
     "execution_count": 10,
     "metadata": {},
     "output_type": "execute_result"
    }
   ],
   "source": [
    "utils.get_accuracy(test_reviews, train_reviews, model)"
   ]
  },
  {
   "cell_type": "markdown",
   "metadata": {},
   "source": [
    "# 6. With sampled data"
   ]
  },
  {
   "cell_type": "code",
   "execution_count": 11,
   "metadata": {
    "ExecuteTime": {
     "end_time": "2018-07-17T08:37:07.108194Z",
     "start_time": "2018-07-17T08:37:07.067304Z"
    },
    "scrolled": true
   },
   "outputs": [
    {
     "data": {
      "text/html": [
       "<div>\n",
       "<style scoped>\n",
       "    .dataframe tbody tr th:only-of-type {\n",
       "        vertical-align: middle;\n",
       "    }\n",
       "\n",
       "    .dataframe tbody tr th {\n",
       "        vertical-align: top;\n",
       "    }\n",
       "\n",
       "    .dataframe thead th {\n",
       "        text-align: right;\n",
       "    }\n",
       "</style>\n",
       "<table border=\"1\" class=\"dataframe\">\n",
       "  <thead>\n",
       "    <tr style=\"text-align: right;\">\n",
       "      <th></th>\n",
       "      <th>review</th>\n",
       "      <th>rating</th>\n",
       "      <th>sentiment</th>\n",
       "      <th>category</th>\n",
       "    </tr>\n",
       "  </thead>\n",
       "  <tbody>\n",
       "    <tr>\n",
       "      <th>5571</th>\n",
       "      <td>love the idea and have used an expanding hose ...</td>\n",
       "      <td>2.0</td>\n",
       "      <td>bad</td>\n",
       "      <td>garden</td>\n",
       "    </tr>\n",
       "    <tr>\n",
       "      <th>5572</th>\n",
       "      <td>all of these expanding hoses have the same pro...</td>\n",
       "      <td>2.0</td>\n",
       "      <td>bad</td>\n",
       "      <td>garden</td>\n",
       "    </tr>\n",
       "    <tr>\n",
       "      <th>5573</th>\n",
       "      <td>as with many of these types of hoses there are...</td>\n",
       "      <td>1.0</td>\n",
       "      <td>bad</td>\n",
       "      <td>garden</td>\n",
       "    </tr>\n",
       "    <tr>\n",
       "      <th>5574</th>\n",
       "      <td>look it rare that have trouble assembling prod...</td>\n",
       "      <td>2.0</td>\n",
       "      <td>bad</td>\n",
       "      <td>garden</td>\n",
       "    </tr>\n",
       "    <tr>\n",
       "      <th>5575</th>\n",
       "      <td>see update below for why knocked it down to st...</td>\n",
       "      <td>2.0</td>\n",
       "      <td>bad</td>\n",
       "      <td>garden</td>\n",
       "    </tr>\n",
       "  </tbody>\n",
       "</table>\n",
       "</div>"
      ],
      "text/plain": [
       "                                                 review  rating sentiment  \\\n",
       "5571  love the idea and have used an expanding hose ...     2.0       bad   \n",
       "5572  all of these expanding hoses have the same pro...     2.0       bad   \n",
       "5573  as with many of these types of hoses there are...     1.0       bad   \n",
       "5574  look it rare that have trouble assembling prod...     2.0       bad   \n",
       "5575  see update below for why knocked it down to st...     2.0       bad   \n",
       "\n",
       "     category  \n",
       "5571   garden  \n",
       "5572   garden  \n",
       "5573   garden  \n",
       "5574   garden  \n",
       "5575   garden  "
      ]
     },
     "execution_count": 11,
     "metadata": {},
     "output_type": "execute_result"
    }
   ],
   "source": [
    "pos_sampled = train_df[train_df['sentiment']=='good'].sample(2788)\n",
    "neg_sampled = train_df[train_df['sentiment']=='bad']\n",
    "sampled_df = pd.concat([pos_sampled, neg_sampled])\n",
    "sampled_df.index = range(len(sampled_df))\n",
    "sampled_df.tail()"
   ]
  },
  {
   "cell_type": "code",
   "execution_count": 12,
   "metadata": {
    "ExecuteTime": {
     "end_time": "2018-07-17T08:37:07.120163Z",
     "start_time": "2018-07-17T08:37:07.111187Z"
    }
   },
   "outputs": [
    {
     "data": {
      "text/plain": [
       "bad     2788\n",
       "good    2788\n",
       "Name: sentiment, dtype: int64"
      ]
     },
     "execution_count": 12,
     "metadata": {},
     "output_type": "execute_result"
    }
   ],
   "source": [
    "sampled_df['sentiment'].value_counts()"
   ]
  },
  {
   "cell_type": "code",
   "execution_count": 13,
   "metadata": {
    "ExecuteTime": {
     "end_time": "2018-07-17T08:37:08.024040Z",
     "start_time": "2018-07-17T08:37:07.123155Z"
    }
   },
   "outputs": [],
   "source": [
    "sampled_reviews = list()\n",
    "for i in range(len(sampled_df)):\n",
    "    doc = sampled_df.iloc[i]\n",
    "    doc_tuple = tuple(doc.tolist())\n",
    "    sampled_reviews.append(doc_tuple)"
   ]
  },
  {
   "cell_type": "code",
   "execution_count": 14,
   "metadata": {
    "ExecuteTime": {
     "end_time": "2018-07-17T08:37:08.606752Z",
     "start_time": "2018-07-17T08:37:08.024040Z"
    },
    "scrolled": true
   },
   "outputs": [
    {
     "name": "stdout",
     "output_type": "stream",
     "text": [
      "말뭉치의 단어 수: 8728\n"
     ]
    }
   ],
   "source": [
    "# 데이터 인코딩\n",
    "encoded_reviews = utils.doc2vec_labeler(sampled_reviews)\n",
    "\n",
    "# Doc2Vec 인스턴스 생성\n",
    "model = utils.make_doc2vec_object()\n",
    "\n",
    "# Doc2Vec 인스턴스에서 말뭉치 단어사전 생성\n",
    "model.build_vocab(encoded_reviews)\n",
    "print(\"말뭉치의 단어 수:\", len(model.wv.vocab))"
   ]
  },
  {
   "cell_type": "code",
   "execution_count": 15,
   "metadata": {
    "ExecuteTime": {
     "end_time": "2018-07-17T08:37:08.684963Z",
     "start_time": "2018-07-17T08:37:08.609747Z"
    }
   },
   "outputs": [],
   "source": [
    "# 모델 학습\n",
    "model.train(encoded_reviews, total_examples=model.corpus_count, epochs=10)"
   ]
  },
  {
   "cell_type": "code",
   "execution_count": 16,
   "metadata": {
    "ExecuteTime": {
     "end_time": "2018-07-17T08:37:08.714754Z",
     "start_time": "2018-07-17T08:37:08.686829Z"
    }
   },
   "outputs": [
    {
     "name": "stdout",
     "output_type": "stream",
     "text": [
      "Review: \n",
      " let be very candid this is very good drying towel however most of the towels use to dry off one of the cars work equally as well this towel is made of microfiber materials and is very soft and carefully noted that on my corvette it did not leave any cloth marks however that car does have great wax finish and scraping that wax would not be easy the towel does absorb good and the size is very good have yet to figure out the use of those pickets on both ends the manufacturer writes that you can put your hands in those pockets and you get better grip on the towel maybe maybe not the towel washed easily by just tossing in with the rest of your machine washables this is good product \n",
      "\n",
      "Rating: 5.0\n",
      "Sentiment: good\n",
      "Category: auto\n"
     ]
    },
    {
     "data": {
      "text/html": [
       "<div>\n",
       "<style scoped>\n",
       "    .dataframe tbody tr th:only-of-type {\n",
       "        vertical-align: middle;\n",
       "    }\n",
       "\n",
       "    .dataframe tbody tr th {\n",
       "        vertical-align: top;\n",
       "    }\n",
       "\n",
       "    .dataframe thead th {\n",
       "        text-align: right;\n",
       "    }\n",
       "</style>\n",
       "<table border=\"1\" class=\"dataframe\">\n",
       "  <thead>\n",
       "    <tr style=\"text-align: right;\">\n",
       "      <th></th>\n",
       "      <th>index</th>\n",
       "      <th>review</th>\n",
       "      <th>rating</th>\n",
       "      <th>sentiment</th>\n",
       "      <th>category</th>\n",
       "      <th>score</th>\n",
       "    </tr>\n",
       "  </thead>\n",
       "  <tbody>\n",
       "    <tr>\n",
       "      <th>0</th>\n",
       "      <td>1285</td>\n",
       "      <td>for the price this is one of the best pop filt...</td>\n",
       "      <td>4.0</td>\n",
       "      <td>good</td>\n",
       "      <td>music</td>\n",
       "      <td>0.509794</td>\n",
       "    </tr>\n",
       "    <tr>\n",
       "      <th>1</th>\n",
       "      <td>1234</td>\n",
       "      <td>of the four only one actually popped right on ...</td>\n",
       "      <td>5.0</td>\n",
       "      <td>good</td>\n",
       "      <td>auto</td>\n",
       "      <td>0.478094</td>\n",
       "    </tr>\n",
       "    <tr>\n",
       "      <th>2</th>\n",
       "      <td>2348</td>\n",
       "      <td>bought this tool because of the reviews the re...</td>\n",
       "      <td>5.0</td>\n",
       "      <td>good</td>\n",
       "      <td>garden</td>\n",
       "      <td>0.474698</td>\n",
       "    </tr>\n",
       "    <tr>\n",
       "      <th>3</th>\n",
       "      <td>242</td>\n",
       "      <td>best polish have found</td>\n",
       "      <td>5.0</td>\n",
       "      <td>good</td>\n",
       "      <td>auto</td>\n",
       "      <td>0.462356</td>\n",
       "    </tr>\n",
       "    <tr>\n",
       "      <th>4</th>\n",
       "      <td>1202</td>\n",
       "      <td>great quality casters for the money just as go...</td>\n",
       "      <td>5.0</td>\n",
       "      <td>good</td>\n",
       "      <td>music</td>\n",
       "      <td>0.453389</td>\n",
       "    </tr>\n",
       "  </tbody>\n",
       "</table>\n",
       "</div>"
      ],
      "text/plain": [
       "   index                                             review  rating sentiment  \\\n",
       "0   1285  for the price this is one of the best pop filt...     4.0      good   \n",
       "1   1234  of the four only one actually popped right on ...     5.0      good   \n",
       "2   2348  bought this tool because of the reviews the re...     5.0      good   \n",
       "3    242                             best polish have found     5.0      good   \n",
       "4   1202  great quality casters for the money just as go...     5.0      good   \n",
       "\n",
       "  category     score  \n",
       "0    music  0.509794  \n",
       "1     auto  0.478094  \n",
       "2   garden  0.474698  \n",
       "3     auto  0.462356  \n",
       "4    music  0.453389  "
      ]
     },
     "execution_count": 16,
     "metadata": {},
     "output_type": "execute_result"
    }
   ],
   "source": [
    "similar_docs = utils.get_similar_doc(test_reviews[3], sampled_reviews, model)\n",
    "similar_docs"
   ]
  },
  {
   "cell_type": "code",
   "execution_count": 17,
   "metadata": {
    "ExecuteTime": {
     "end_time": "2018-07-17T08:37:10.262151Z",
     "start_time": "2018-07-17T08:37:08.716749Z"
    },
    "scrolled": true
   },
   "outputs": [
    {
     "data": {
      "text/plain": [
       "148"
      ]
     },
     "execution_count": 17,
     "metadata": {},
     "output_type": "execute_result"
    }
   ],
   "source": [
    "utils.get_accuracy(test_reviews, sampled_reviews, model)"
   ]
  }
 ],
 "metadata": {
  "kernelspec": {
   "display_name": "Python 3",
   "language": "python",
   "name": "python3"
  },
  "language_info": {
   "codemirror_mode": {
    "name": "ipython",
    "version": 3
   },
   "file_extension": ".py",
   "mimetype": "text/x-python",
   "name": "python",
   "nbconvert_exporter": "python",
   "pygments_lexer": "ipython3",
   "version": "3.6.5"
  },
  "varInspector": {
   "cols": {
    "lenName": 16,
    "lenType": 16,
    "lenVar": 40
   },
   "kernels_config": {
    "python": {
     "delete_cmd_postfix": "",
     "delete_cmd_prefix": "del ",
     "library": "var_list.py",
     "varRefreshCmd": "print(var_dic_list())"
    },
    "r": {
     "delete_cmd_postfix": ") ",
     "delete_cmd_prefix": "rm(",
     "library": "var_list.r",
     "varRefreshCmd": "cat(var_dic_list()) "
    }
   },
   "types_to_exclude": [
    "module",
    "function",
    "builtin_function_or_method",
    "instance",
    "_Feature"
   ],
   "window_display": false
  }
 },
 "nbformat": 4,
 "nbformat_minor": 2
}
